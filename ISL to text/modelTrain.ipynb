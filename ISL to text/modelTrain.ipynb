{
  "cells": [
    {
      "cell_type": "code",
      "execution_count": 2,
      "metadata": {
        "id": "JIOzYKNkOh1t"
      },
      "outputs": [],
      "source": [
        "import pandas as pd\n",
        "import numpy as np\n",
        "import matplotlib.pyplot as plt\n",
        "import tensorflow as tf\n",
        "from tensorflow import keras\n",
        "from tensorflow.keras import layers\n",
        "from sklearn.model_selection import train_test_split\n",
        "from sklearn.preprocessing import LabelEncoder\n",
        "from sklearn.metrics import accuracy_score, precision_score, recall_score, f1_score\n",
        "\n"
      ]
    },
    {
      "cell_type": "code",
      "execution_count": 3,
      "metadata": {
        "id": "4on_iLLLO87q"
      },
      "outputs": [],
      "source": [
        "data = pd.read_csv('keypoint.csv',header=None)"
      ]
    },
    {
      "cell_type": "code",
      "execution_count": 4,
      "metadata": {
        "id": "QfkE0RZmguGd"
      },
      "outputs": [],
      "source": [
        "data[0] = data[0].astype(str)"
      ]
    },
    {
      "cell_type": "code",
      "execution_count": 5,
      "metadata": {
        "colab": {
          "base_uri": "https://localhost:8080/"
        },
        "id": "SyrM0MDTPiGl",
        "outputId": "7189ea03-20f9-4519-d555-84d46e4f2794"
      },
      "outputs": [
        {
          "data": {
            "text/plain": [
              "array(['A', 'B', 'C'], dtype=object)"
            ]
          },
          "execution_count": 5,
          "metadata": {},
          "output_type": "execute_result"
        }
      ],
      "source": [
        "data[0].unique()"
      ]
    },
    {
      "cell_type": "code",
      "execution_count": 6,
      "metadata": {
        "colab": {
          "base_uri": "https://localhost:8080/",
          "height": 487
        },
        "id": "OC5TcyT9U63v",
        "outputId": "a07aab43-c24a-40da-a50e-eef9f04f4f4d"
      },
      "outputs": [
        {
          "data": {
            "text/html": [
              "<div>\n",
              "<style scoped>\n",
              "    .dataframe tbody tr th:only-of-type {\n",
              "        vertical-align: middle;\n",
              "    }\n",
              "\n",
              "    .dataframe tbody tr th {\n",
              "        vertical-align: top;\n",
              "    }\n",
              "\n",
              "    .dataframe thead th {\n",
              "        text-align: right;\n",
              "    }\n",
              "</style>\n",
              "<table border=\"1\" class=\"dataframe\">\n",
              "  <thead>\n",
              "    <tr style=\"text-align: right;\">\n",
              "      <th></th>\n",
              "      <th>1</th>\n",
              "      <th>2</th>\n",
              "      <th>3</th>\n",
              "      <th>4</th>\n",
              "      <th>5</th>\n",
              "      <th>6</th>\n",
              "      <th>7</th>\n",
              "      <th>8</th>\n",
              "      <th>9</th>\n",
              "      <th>10</th>\n",
              "      <th>...</th>\n",
              "      <th>33</th>\n",
              "      <th>34</th>\n",
              "      <th>35</th>\n",
              "      <th>36</th>\n",
              "      <th>37</th>\n",
              "      <th>38</th>\n",
              "      <th>39</th>\n",
              "      <th>40</th>\n",
              "      <th>41</th>\n",
              "      <th>42</th>\n",
              "    </tr>\n",
              "  </thead>\n",
              "  <tbody>\n",
              "    <tr>\n",
              "      <th>0</th>\n",
              "      <td>0.0</td>\n",
              "      <td>0.0</td>\n",
              "      <td>0.315789</td>\n",
              "      <td>-0.184211</td>\n",
              "      <td>0.657895</td>\n",
              "      <td>-0.421053</td>\n",
              "      <td>0.842105</td>\n",
              "      <td>-0.631579</td>\n",
              "      <td>1.0</td>\n",
              "      <td>-0.868421</td>\n",
              "      <td>...</td>\n",
              "      <td>0.263158</td>\n",
              "      <td>0.105263</td>\n",
              "      <td>-0.078947</td>\n",
              "      <td>0.052632</td>\n",
              "      <td>0.210526</td>\n",
              "      <td>0.315789</td>\n",
              "      <td>0.157895</td>\n",
              "      <td>0.315789</td>\n",
              "      <td>0.052632</td>\n",
              "      <td>0.236842</td>\n",
              "    </tr>\n",
              "    <tr>\n",
              "      <th>1</th>\n",
              "      <td>0.0</td>\n",
              "      <td>0.0</td>\n",
              "      <td>-0.272727</td>\n",
              "      <td>-0.204545</td>\n",
              "      <td>-0.590909</td>\n",
              "      <td>-0.386364</td>\n",
              "      <td>-0.818182</td>\n",
              "      <td>-0.522727</td>\n",
              "      <td>-1.0</td>\n",
              "      <td>-0.704545</td>\n",
              "      <td>...</td>\n",
              "      <td>-0.363636</td>\n",
              "      <td>0.136364</td>\n",
              "      <td>-0.068182</td>\n",
              "      <td>0.090909</td>\n",
              "      <td>-0.431818</td>\n",
              "      <td>0.272727</td>\n",
              "      <td>-0.363636</td>\n",
              "      <td>0.295455</td>\n",
              "      <td>-0.250000</td>\n",
              "      <td>0.250000</td>\n",
              "    </tr>\n",
              "    <tr>\n",
              "      <th>2</th>\n",
              "      <td>0.0</td>\n",
              "      <td>0.0</td>\n",
              "      <td>0.289474</td>\n",
              "      <td>-0.184211</td>\n",
              "      <td>0.631579</td>\n",
              "      <td>-0.394737</td>\n",
              "      <td>0.842105</td>\n",
              "      <td>-0.605263</td>\n",
              "      <td>1.0</td>\n",
              "      <td>-0.842105</td>\n",
              "      <td>...</td>\n",
              "      <td>0.210526</td>\n",
              "      <td>0.131579</td>\n",
              "      <td>-0.105263</td>\n",
              "      <td>0.078947</td>\n",
              "      <td>0.157895</td>\n",
              "      <td>0.368421</td>\n",
              "      <td>0.105263</td>\n",
              "      <td>0.342105</td>\n",
              "      <td>0.000000</td>\n",
              "      <td>0.263158</td>\n",
              "    </tr>\n",
              "    <tr>\n",
              "      <th>3</th>\n",
              "      <td>0.0</td>\n",
              "      <td>0.0</td>\n",
              "      <td>-0.295455</td>\n",
              "      <td>-0.204545</td>\n",
              "      <td>-0.590909</td>\n",
              "      <td>-0.409091</td>\n",
              "      <td>-0.818182</td>\n",
              "      <td>-0.545455</td>\n",
              "      <td>-1.0</td>\n",
              "      <td>-0.727273</td>\n",
              "      <td>...</td>\n",
              "      <td>-0.363636</td>\n",
              "      <td>0.090909</td>\n",
              "      <td>-0.090909</td>\n",
              "      <td>0.068182</td>\n",
              "      <td>-0.431818</td>\n",
              "      <td>0.250000</td>\n",
              "      <td>-0.363636</td>\n",
              "      <td>0.272727</td>\n",
              "      <td>-0.227273</td>\n",
              "      <td>0.204545</td>\n",
              "    </tr>\n",
              "    <tr>\n",
              "      <th>4</th>\n",
              "      <td>0.0</td>\n",
              "      <td>0.0</td>\n",
              "      <td>0.315789</td>\n",
              "      <td>-0.210526</td>\n",
              "      <td>0.631579</td>\n",
              "      <td>-0.394737</td>\n",
              "      <td>0.842105</td>\n",
              "      <td>-0.605263</td>\n",
              "      <td>1.0</td>\n",
              "      <td>-0.842105</td>\n",
              "      <td>...</td>\n",
              "      <td>0.236842</td>\n",
              "      <td>0.131579</td>\n",
              "      <td>-0.105263</td>\n",
              "      <td>0.078947</td>\n",
              "      <td>0.184211</td>\n",
              "      <td>0.342105</td>\n",
              "      <td>0.131579</td>\n",
              "      <td>0.315789</td>\n",
              "      <td>0.026316</td>\n",
              "      <td>0.236842</td>\n",
              "    </tr>\n",
              "    <tr>\n",
              "      <th>...</th>\n",
              "      <td>...</td>\n",
              "      <td>...</td>\n",
              "      <td>...</td>\n",
              "      <td>...</td>\n",
              "      <td>...</td>\n",
              "      <td>...</td>\n",
              "      <td>...</td>\n",
              "      <td>...</td>\n",
              "      <td>...</td>\n",
              "      <td>...</td>\n",
              "      <td>...</td>\n",
              "      <td>...</td>\n",
              "      <td>...</td>\n",
              "      <td>...</td>\n",
              "      <td>...</td>\n",
              "      <td>...</td>\n",
              "      <td>...</td>\n",
              "      <td>...</td>\n",
              "      <td>...</td>\n",
              "      <td>...</td>\n",
              "      <td>...</td>\n",
              "    </tr>\n",
              "    <tr>\n",
              "      <th>7664</th>\n",
              "      <td>0.0</td>\n",
              "      <td>0.0</td>\n",
              "      <td>0.281250</td>\n",
              "      <td>-0.250000</td>\n",
              "      <td>0.625000</td>\n",
              "      <td>-0.437500</td>\n",
              "      <td>0.843750</td>\n",
              "      <td>-0.687500</td>\n",
              "      <td>1.0</td>\n",
              "      <td>-1.000000</td>\n",
              "      <td>...</td>\n",
              "      <td>0.312500</td>\n",
              "      <td>0.375000</td>\n",
              "      <td>-0.125000</td>\n",
              "      <td>0.437500</td>\n",
              "      <td>0.218750</td>\n",
              "      <td>0.750000</td>\n",
              "      <td>0.156250</td>\n",
              "      <td>0.687500</td>\n",
              "      <td>0.062500</td>\n",
              "      <td>0.562500</td>\n",
              "    </tr>\n",
              "    <tr>\n",
              "      <th>7665</th>\n",
              "      <td>0.0</td>\n",
              "      <td>0.0</td>\n",
              "      <td>-0.285714</td>\n",
              "      <td>-0.190476</td>\n",
              "      <td>-0.619048</td>\n",
              "      <td>-0.404762</td>\n",
              "      <td>-0.857143</td>\n",
              "      <td>-0.571429</td>\n",
              "      <td>-1.0</td>\n",
              "      <td>-0.785714</td>\n",
              "      <td>...</td>\n",
              "      <td>-0.285714</td>\n",
              "      <td>0.190476</td>\n",
              "      <td>-0.023810</td>\n",
              "      <td>0.261905</td>\n",
              "      <td>-0.380952</td>\n",
              "      <td>0.452381</td>\n",
              "      <td>-0.309524</td>\n",
              "      <td>0.428571</td>\n",
              "      <td>-0.142857</td>\n",
              "      <td>0.357143</td>\n",
              "    </tr>\n",
              "    <tr>\n",
              "      <th>7666</th>\n",
              "      <td>0.0</td>\n",
              "      <td>0.0</td>\n",
              "      <td>0.285714</td>\n",
              "      <td>-0.228571</td>\n",
              "      <td>0.628571</td>\n",
              "      <td>-0.428571</td>\n",
              "      <td>0.885714</td>\n",
              "      <td>-0.628571</td>\n",
              "      <td>1.0</td>\n",
              "      <td>-0.914286</td>\n",
              "      <td>...</td>\n",
              "      <td>0.400000</td>\n",
              "      <td>0.285714</td>\n",
              "      <td>-0.028571</td>\n",
              "      <td>0.342857</td>\n",
              "      <td>0.314286</td>\n",
              "      <td>0.657143</td>\n",
              "      <td>0.257143</td>\n",
              "      <td>0.571429</td>\n",
              "      <td>0.171429</td>\n",
              "      <td>0.457143</td>\n",
              "    </tr>\n",
              "    <tr>\n",
              "      <th>7667</th>\n",
              "      <td>0.0</td>\n",
              "      <td>0.0</td>\n",
              "      <td>-0.309524</td>\n",
              "      <td>-0.214286</td>\n",
              "      <td>-0.619048</td>\n",
              "      <td>-0.404762</td>\n",
              "      <td>-0.857143</td>\n",
              "      <td>-0.595238</td>\n",
              "      <td>-1.0</td>\n",
              "      <td>-0.833333</td>\n",
              "      <td>...</td>\n",
              "      <td>-0.285714</td>\n",
              "      <td>0.190476</td>\n",
              "      <td>0.000000</td>\n",
              "      <td>0.238095</td>\n",
              "      <td>-0.380952</td>\n",
              "      <td>0.428571</td>\n",
              "      <td>-0.309524</td>\n",
              "      <td>0.404762</td>\n",
              "      <td>-0.142857</td>\n",
              "      <td>0.333333</td>\n",
              "    </tr>\n",
              "    <tr>\n",
              "      <th>7668</th>\n",
              "      <td>0.0</td>\n",
              "      <td>0.0</td>\n",
              "      <td>0.242424</td>\n",
              "      <td>-0.242424</td>\n",
              "      <td>0.606061</td>\n",
              "      <td>-0.393939</td>\n",
              "      <td>0.848485</td>\n",
              "      <td>-0.606061</td>\n",
              "      <td>1.0</td>\n",
              "      <td>-0.909091</td>\n",
              "      <td>...</td>\n",
              "      <td>0.393939</td>\n",
              "      <td>0.363636</td>\n",
              "      <td>-0.030303</td>\n",
              "      <td>0.424242</td>\n",
              "      <td>0.303030</td>\n",
              "      <td>0.787879</td>\n",
              "      <td>0.242424</td>\n",
              "      <td>0.666667</td>\n",
              "      <td>0.151515</td>\n",
              "      <td>0.545455</td>\n",
              "    </tr>\n",
              "  </tbody>\n",
              "</table>\n",
              "<p>7669 rows × 42 columns</p>\n",
              "</div>"
            ],
            "text/plain": [
              "       1    2         3         4         5         6         7         8   \\\n",
              "0     0.0  0.0  0.315789 -0.184211  0.657895 -0.421053  0.842105 -0.631579   \n",
              "1     0.0  0.0 -0.272727 -0.204545 -0.590909 -0.386364 -0.818182 -0.522727   \n",
              "2     0.0  0.0  0.289474 -0.184211  0.631579 -0.394737  0.842105 -0.605263   \n",
              "3     0.0  0.0 -0.295455 -0.204545 -0.590909 -0.409091 -0.818182 -0.545455   \n",
              "4     0.0  0.0  0.315789 -0.210526  0.631579 -0.394737  0.842105 -0.605263   \n",
              "...   ...  ...       ...       ...       ...       ...       ...       ...   \n",
              "7664  0.0  0.0  0.281250 -0.250000  0.625000 -0.437500  0.843750 -0.687500   \n",
              "7665  0.0  0.0 -0.285714 -0.190476 -0.619048 -0.404762 -0.857143 -0.571429   \n",
              "7666  0.0  0.0  0.285714 -0.228571  0.628571 -0.428571  0.885714 -0.628571   \n",
              "7667  0.0  0.0 -0.309524 -0.214286 -0.619048 -0.404762 -0.857143 -0.595238   \n",
              "7668  0.0  0.0  0.242424 -0.242424  0.606061 -0.393939  0.848485 -0.606061   \n",
              "\n",
              "       9         10  ...        33        34        35        36        37  \\\n",
              "0     1.0 -0.868421  ...  0.263158  0.105263 -0.078947  0.052632  0.210526   \n",
              "1    -1.0 -0.704545  ... -0.363636  0.136364 -0.068182  0.090909 -0.431818   \n",
              "2     1.0 -0.842105  ...  0.210526  0.131579 -0.105263  0.078947  0.157895   \n",
              "3    -1.0 -0.727273  ... -0.363636  0.090909 -0.090909  0.068182 -0.431818   \n",
              "4     1.0 -0.842105  ...  0.236842  0.131579 -0.105263  0.078947  0.184211   \n",
              "...   ...       ...  ...       ...       ...       ...       ...       ...   \n",
              "7664  1.0 -1.000000  ...  0.312500  0.375000 -0.125000  0.437500  0.218750   \n",
              "7665 -1.0 -0.785714  ... -0.285714  0.190476 -0.023810  0.261905 -0.380952   \n",
              "7666  1.0 -0.914286  ...  0.400000  0.285714 -0.028571  0.342857  0.314286   \n",
              "7667 -1.0 -0.833333  ... -0.285714  0.190476  0.000000  0.238095 -0.380952   \n",
              "7668  1.0 -0.909091  ...  0.393939  0.363636 -0.030303  0.424242  0.303030   \n",
              "\n",
              "            38        39        40        41        42  \n",
              "0     0.315789  0.157895  0.315789  0.052632  0.236842  \n",
              "1     0.272727 -0.363636  0.295455 -0.250000  0.250000  \n",
              "2     0.368421  0.105263  0.342105  0.000000  0.263158  \n",
              "3     0.250000 -0.363636  0.272727 -0.227273  0.204545  \n",
              "4     0.342105  0.131579  0.315789  0.026316  0.236842  \n",
              "...        ...       ...       ...       ...       ...  \n",
              "7664  0.750000  0.156250  0.687500  0.062500  0.562500  \n",
              "7665  0.452381 -0.309524  0.428571 -0.142857  0.357143  \n",
              "7666  0.657143  0.257143  0.571429  0.171429  0.457143  \n",
              "7667  0.428571 -0.309524  0.404762 -0.142857  0.333333  \n",
              "7668  0.787879  0.242424  0.666667  0.151515  0.545455  \n",
              "\n",
              "[7669 rows x 42 columns]"
            ]
          },
          "execution_count": 6,
          "metadata": {},
          "output_type": "execute_result"
        }
      ],
      "source": [
        "X = data.iloc[:,1:]\n",
        "X"
      ]
    },
    {
      "cell_type": "code",
      "execution_count": 7,
      "metadata": {
        "id": "C6Fev9pFNPA4"
      },
      "outputs": [],
      "source": [
        "enc = LabelEncoder()"
      ]
    },
    {
      "cell_type": "code",
      "execution_count": 8,
      "metadata": {
        "colab": {
          "base_uri": "https://localhost:8080/"
        },
        "id": "GptfpfFZQ859",
        "outputId": "d8dcef55-f4b7-4b8b-adfb-2066770dd343"
      },
      "outputs": [
        {
          "name": "stderr",
          "output_type": "stream",
          "text": [
            "c:\\Users\\Shashwat Gupta\\Downloads\\Indian-Sign-Language-Detection-main\\Indian-Sign-Language-Detection-main\\.venv\\lib\\site-packages\\sklearn\\preprocessing\\_label.py:114: DataConversionWarning: A column-vector y was passed when a 1d array was expected. Please change the shape of y to (n_samples, ), for example using ravel().\n",
            "  y = column_or_1d(y, warn=True)\n"
          ]
        },
        {
          "data": {
            "text/plain": [
              "array([0, 0, 0, ..., 0, 0, 0])"
            ]
          },
          "execution_count": 8,
          "metadata": {},
          "output_type": "execute_result"
        }
      ],
      "source": [
        "y = enc.fit_transform(data[[0]])\n",
        "y"
      ]
    },
    {
      "cell_type": "code",
      "execution_count": 9,
      "metadata": {
        "colab": {
          "base_uri": "https://localhost:8080/"
        },
        "id": "mXeK_Oh3lSGo",
        "outputId": "fd14d294-df98-4171-e4e1-da13d0c98ada"
      },
      "outputs": [
        {
          "name": "stdout",
          "output_type": "stream",
          "text": [
            "[0 0 0 ... 0 0 0]\n"
          ]
        }
      ],
      "source": [
        "print(y)"
      ]
    },
    {
      "cell_type": "code",
      "execution_count": 10,
      "metadata": {
        "id": "-725RwgrSiLh"
      },
      "outputs": [],
      "source": [
        "from keras.callbacks import EarlyStopping\n",
        "es = EarlyStopping(monitor='val_loss', mode='min', verbose=1, patience=2)"
      ]
    },
    {
      "cell_type": "code",
      "execution_count": 11,
      "metadata": {
        "id": "MoP6X2dFXtaq"
      },
      "outputs": [],
      "source": [
        "X_train, X_test, y_train, y_test = train_test_split(\n",
        "    X, y, test_size=0.2, random_state=42)"
      ]
    },
    {
      "cell_type": "code",
      "execution_count": 12,
      "metadata": {
        "id": "fwYKKiYKUDMp"
      },
      "outputs": [],
      "source": [
        "model = keras.Sequential([\n",
        "    layers.Dense(1470, activation='relu'),\n",
        "    layers.Dropout(0.5),\n",
        "    layers.Dense(832, activation='relu'),\n",
        "    layers.Dropout(0.5),\n",
        "    layers.Dense(428, activation='relu'),\n",
        "    layers.Dropout(0.5),\n",
        "    layers.Dense(264, activation='relu'),\n",
        "    layers.Dropout(0.5),\n",
        "    layers.Dense(35, activation='softmax')\n",
        "])"
      ]
    },
    {
      "cell_type": "code",
      "execution_count": 13,
      "metadata": {
        "id": "RZKhTkEfYd6i"
      },
      "outputs": [],
      "source": [
        "model.compile(loss = \"sparse_categorical_crossentropy\", optimizer = \"adam\", metrics=[\"accuracy\"])"
      ]
    },
    {
      "cell_type": "code",
      "execution_count": 14,
      "metadata": {
        "colab": {
          "base_uri": "https://localhost:8080/"
        },
        "id": "mLfTS486YqiG",
        "outputId": "4465dc13-0e94-4a54-d1b5-bb4c84e82635"
      },
      "outputs": [
        {
          "name": "stdout",
          "output_type": "stream",
          "text": [
            "Epoch 1/50\n",
            "39/39 [==============================] - 2s 29ms/step - loss: 0.4950 - accuracy: 0.8606 - val_loss: 0.0118 - val_accuracy: 0.9992\n",
            "Epoch 2/50\n",
            "39/39 [==============================] - 1s 23ms/step - loss: 0.0055 - accuracy: 0.9990 - val_loss: 3.7477e-06 - val_accuracy: 1.0000\n",
            "Epoch 3/50\n",
            "39/39 [==============================] - 1s 21ms/step - loss: 4.1660e-04 - accuracy: 1.0000 - val_loss: 3.2234e-06 - val_accuracy: 1.0000\n",
            "Epoch 4/50\n",
            "39/39 [==============================] - 1s 27ms/step - loss: 2.9737e-04 - accuracy: 1.0000 - val_loss: 5.6029e-07 - val_accuracy: 1.0000\n",
            "Epoch 5/50\n",
            "39/39 [==============================] - 1s 26ms/step - loss: 1.1674e-04 - accuracy: 1.0000 - val_loss: 5.4106e-07 - val_accuracy: 1.0000\n",
            "Epoch 6/50\n",
            "39/39 [==============================] - 1s 21ms/step - loss: 8.5033e-05 - accuracy: 1.0000 - val_loss: 1.8081e-07 - val_accuracy: 1.0000\n",
            "Epoch 7/50\n",
            "39/39 [==============================] - 1s 25ms/step - loss: 4.9916e-05 - accuracy: 1.0000 - val_loss: 1.1027e-07 - val_accuracy: 1.0000\n",
            "Epoch 8/50\n",
            "39/39 [==============================] - 1s 25ms/step - loss: 1.0531e-04 - accuracy: 1.0000 - val_loss: 7.3361e-07 - val_accuracy: 1.0000\n",
            "Epoch 9/50\n",
            "39/39 [==============================] - 1s 24ms/step - loss: 7.6184e-05 - accuracy: 1.0000 - val_loss: 8.9868e-08 - val_accuracy: 1.0000\n",
            "Epoch 10/50\n",
            "39/39 [==============================] - 1s 24ms/step - loss: 3.2384e-05 - accuracy: 1.0000 - val_loss: 3.9445e-08 - val_accuracy: 1.0000\n",
            "Epoch 11/50\n",
            "39/39 [==============================] - 1s 24ms/step - loss: 2.2554e-05 - accuracy: 1.0000 - val_loss: 2.5163e-08 - val_accuracy: 1.0000\n",
            "Epoch 12/50\n",
            "39/39 [==============================] - 1s 24ms/step - loss: 2.3694e-05 - accuracy: 1.0000 - val_loss: 1.0493e-08 - val_accuracy: 1.0000\n",
            "Epoch 13/50\n",
            "39/39 [==============================] - 1s 22ms/step - loss: 1.8233e-05 - accuracy: 1.0000 - val_loss: 7.5781e-09 - val_accuracy: 1.0000\n",
            "Epoch 14/50\n",
            "39/39 [==============================] - 1s 23ms/step - loss: 0.0013 - accuracy: 0.9994 - val_loss: 1.2513e-07 - val_accuracy: 1.0000\n",
            "Epoch 15/50\n",
            "39/39 [==============================] - 1s 23ms/step - loss: 0.0024 - accuracy: 0.9998 - val_loss: 1.1980e-06 - val_accuracy: 1.0000\n",
            "Epoch 15: early stopping\n"
          ]
        },
        {
          "data": {
            "text/plain": [
              "<keras.callbacks.History at 0x14fbf05cb50>"
            ]
          },
          "execution_count": 14,
          "metadata": {},
          "output_type": "execute_result"
        }
      ],
      "source": [
        "model.fit(X_train, y_train, epochs = 50, batch_size = 128, validation_split = 0.2, callbacks=[es])"
      ]
    },
    {
      "cell_type": "code",
      "execution_count": 15,
      "metadata": {
        "colab": {
          "base_uri": "https://localhost:8080/"
        },
        "id": "APJrH5DCZPVz",
        "outputId": "e76defc1-3779-4590-ffc8-b2de65864047"
      },
      "outputs": [
        {
          "data": {
            "text/plain": [
              "[1.0013835662903148e-06, 1.0]"
            ]
          },
          "execution_count": 15,
          "metadata": {},
          "output_type": "execute_result"
        }
      ],
      "source": [
        "model.evaluate(X_test, y_test, verbose = 0)"
      ]
    },
    {
      "cell_type": "code",
      "execution_count": 16,
      "metadata": {
        "colab": {
          "base_uri": "https://localhost:8080/"
        },
        "id": "PMScXAuychzn",
        "outputId": "421238f9-dbfb-4be5-bad7-da5fdbf9dce9"
      },
      "outputs": [
        {
          "name": "stdout",
          "output_type": "stream",
          "text": [
            "48/48 [==============================] - 0s 3ms/step\n",
            "Accuracy: 1.0\n",
            "Precision: 1.0\n",
            "Recall: 1.0\n",
            "F1-score: 1.0\n"
          ]
        }
      ],
      "source": [
        "# evaluate the model on the validation set and compute performance metrics\n",
        "y_val_pred = model.predict(X_test)\n",
        "y_val_pred_classes = np.argmax(y_val_pred, axis=1)\n",
        "acc = accuracy_score(y_test, y_val_pred_classes)\n",
        "prec = precision_score(y_test, y_val_pred_classes, average='macro')\n",
        "rec = recall_score(y_test, y_val_pred_classes, average='macro')\n",
        "f1 = f1_score(y_test, y_val_pred_classes, average='macro')\n",
        "print(\"Accuracy:\", acc)\n",
        "print(\"Precision:\", prec)\n",
        "print(\"Recall:\", rec)\n",
        "print(\"F1-score:\", f1)"
      ]
    },
    {
      "cell_type": "code",
      "execution_count": 17,
      "metadata": {
        "id": "yphwMRARaZVL"
      },
      "outputs": [],
      "source": [
        "# model.save(\"model.h5\")"
      ]
    }
  ],
  "metadata": {
    "colab": {
      "provenance": []
    },
    "kernelspec": {
      "display_name": "Python 3",
      "name": "python3"
    },
    "language_info": {
      "codemirror_mode": {
        "name": "ipython",
        "version": 3
      },
      "file_extension": ".py",
      "mimetype": "text/x-python",
      "name": "python",
      "nbconvert_exporter": "python",
      "pygments_lexer": "ipython3",
      "version": "3.9.12"
    }
  },
  "nbformat": 4,
  "nbformat_minor": 0
}
